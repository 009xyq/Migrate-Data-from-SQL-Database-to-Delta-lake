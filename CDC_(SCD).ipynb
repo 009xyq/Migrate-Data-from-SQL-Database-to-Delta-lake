{
 "cells": [
  {
   "cell_type": "markdown",
   "metadata": {
    "application/vnd.databricks.v1+cell": {
     "cellMetadata": {},
     "inputWidgets": {},
     "nuid": "fb5b3ce9-65bc-40e8-8cbf-bfc98c369c3b",
     "showTitle": false,
     "title": ""
    }
   },
   "source": [
    "Create database and Slowly Changing Dimensions (SCD) Type 1 table"
   ]
  },
  {
   "cell_type": "code",
   "execution_count": 0,
   "metadata": {
    "application/vnd.databricks.v1+cell": {
     "cellMetadata": {},
     "inputWidgets": {},
     "nuid": "e52c3af5-a683-4bc5-8d2f-2256e45cfcb7",
     "showTitle": false,
     "title": ""
    }
   },
   "outputs": [],
   "source": [
    "%sql\n",
    "create database if not exists look_up\n",
    "\n",
    "create table if not exists look_up.dim_country_scd1(\n",
    "  country                  STRING,\n",
    "  country_code_2_digit     STRING,\n",
    "  country_code_3_digit     STRING,\n",
    "  continent                STRING,\n",
    "  population               INT\n",
    ");\n",
    "\n",
    "alter table look_up.dim_country_scd1 set tblproperties ('delta.enableChangeDataFeed' = 'true');"
   ]
  },
  {
   "cell_type": "code",
   "execution_count": 0,
   "metadata": {
    "application/vnd.databricks.v1+cell": {
     "cellMetadata": {},
     "inputWidgets": {},
     "nuid": "dc0865f7-abc7-43de-9dc9-fdb2edcda4cf",
     "showTitle": false,
     "title": ""
    }
   },
   "outputs": [],
   "source": [
    "jdbcHostname = dbutils.secrets.get(scope=\"jdbc_stock\", key=\"jdbcHostname\")\n",
    "jdbcDatabase = dbutils.secrets.get(scope=\"jdbc_stock\", key=\"jdbcDatabase\")\n",
    "jdbcUsername = dbutils.secrets.get(scope=\"jdbc_stock\", key=\"jdbcUsername\")\n",
    "jdbcPassword = dbutils.secrets.get(scope=\"jdbc_stock\", key=\"jdbcPassword\")\n",
    "\n",
    "jdbcUrl = f\"jdbc:sqlserver://{jdbcHostname};database={jdbcDatabase}\"\n",
    "\n",
    "country_df = (spark.read \n",
    "                .format(\"jdbc\") \n",
    "                .option(\"url\", jdbcUrl) \n",
    "                .option(\"dbtable\", \"look_up.dim_country\") \n",
    "                .option(\"user\", jdbcUsername) \n",
    "                .option(\"password\", jdbcPassword) \n",
    "                .load()\n",
    ")\n",
    "\n",
    "country_df.createOrReplaceTempView(\"country\")"
   ]
  },
  {
   "cell_type": "markdown",
   "metadata": {
    "application/vnd.databricks.v1+cell": {
     "cellMetadata": {},
     "inputWidgets": {},
     "nuid": "bc7a6907-505d-4720-b083-f6b8d443ddc7",
     "showTitle": false,
     "title": ""
    }
   },
   "source": [
    "Ingest data to SCD Type 1 table from Azure SQL Database"
   ]
  },
  {
   "cell_type": "code",
   "execution_count": 0,
   "metadata": {
    "application/vnd.databricks.v1+cell": {
     "cellMetadata": {},
     "inputWidgets": {},
     "nuid": "b150f0ab-2ccf-4f19-98a6-8ec35fe1ef9f",
     "showTitle": false,
     "title": ""
    }
   },
   "outputs": [],
   "source": [
    "%sql\n",
    "\n",
    "MERGE INTO look_up.dim_country_scd1 as target\n",
    "USING country as source\n",
    "ON target.country = source.country\n",
    "WHEN MATCHED THEN \n",
    "  UPDATE SET \n",
    "    target.country = CASE WHEN target.country <> source.country THEN source.country ELSE target.country END,\n",
    "    target.country_code_2_digit = CASE WHEN target.country_code_2_digit <> source.country_code_2_digit THEN source.country_code_2_digit ELSE target.country_code_2_digit END,\n",
    "    target.country_code_3_digit = CASE WHEN target.country_code_3_digit <> source.country_code_3_digit THEN source.country_code_3_digit ELSE target.country_code_3_digit END,\n",
    "    target.continent = CASE WHEN target.continent <> source.continent THEN source.continent ELSE target.continent END,\n",
    "    target.population = CASE WHEN target.population <> source.population THEN source.population ELSE target.population END\n",
    "\n",
    "WHEN NOT MATCHED THEN \n",
    "    INSERT *\n",
    "\n",
    "WHEN NOT MATCHED BY source THEN \n",
    "    DELETE"
   ]
  },
  {
   "cell_type": "code",
   "execution_count": 0,
   "metadata": {
    "application/vnd.databricks.v1+cell": {
     "cellMetadata": {},
     "inputWidgets": {},
     "nuid": "acaa6c75-5d72-4b5b-b195-68b72ff8df57",
     "showTitle": false,
     "title": ""
    }
   },
   "outputs": [],
   "source": [
    "last_version = spark.conf.get('spark.databricks.delta.lastCommitVersionInSession')\n",
    "change_df1 = spark.sql(f\"select * from table_changes('look_up.dim_country_scd1', {last_version}, {last_version})\")\n",
    "change_df1.createOrReplaceTempView('change_df1_view')"
   ]
  },
  {
   "cell_type": "markdown",
   "metadata": {
    "application/vnd.databricks.v1+cell": {
     "cellMetadata": {},
     "inputWidgets": {},
     "nuid": "083ea785-7e7b-4dba-8a69-0beef7e6cc21",
     "showTitle": false,
     "title": ""
    }
   },
   "source": [
    "Create SCD Type 2 table"
   ]
  },
  {
   "cell_type": "code",
   "execution_count": 0,
   "metadata": {
    "application/vnd.databricks.v1+cell": {
     "cellMetadata": {},
     "inputWidgets": {},
     "nuid": "47da581b-cd8e-4fc0-a008-62ff2bbaee5b",
     "showTitle": false,
     "title": ""
    }
   },
   "outputs": [],
   "source": [
    "%sql\n",
    "create table if not exists look_up.dim_country_scd2(\n",
    "  country                  STRING,\n",
    "  country_code_2_digit     STRING,\n",
    "  country_code_3_digit     STRING,\n",
    "  continent                STRING,\n",
    "  population               INT,\n",
    "  start_date               TIMESTAMP,\n",
    "  end_date                 TIMESTAMP,\n",
    "  is_current               BOOLEAN\n",
    ");\n",
    "\n",
    "MERGE INTO look_up.dim_country_scd2 AS target\n",
    "USING change_df1_view AS source\n",
    "ON target.country = source.country\n",
    "WHEN NOT MATCHED AND source._change_type = 'insert'\n",
    "THEN \n",
    "  INSERT(\n",
    "    country,\n",
    "    country_code_2_digit,\n",
    "    country_code_3_digit,\n",
    "    continent,\n",
    "    population,\n",
    "    start_date,\n",
    "    end_date,\n",
    "    is_current\n",
    "  ) VALUES (\n",
    "    country,\n",
    "    country_code_2_digit,\n",
    "    country_code_3_digit,\n",
    "    continent,\n",
    "    population,\n",
    "    CURRENT_TIMESTAMP,\n",
    "    NULL,\n",
    "    TRUE\n",
    "  );"
   ]
  },
  {
   "cell_type": "markdown",
   "metadata": {
    "application/vnd.databricks.v1+cell": {
     "cellMetadata": {},
     "inputWidgets": {},
     "nuid": "596ae1f8-bf6e-443d-8cad-17e58d24007f",
     "showTitle": false,
     "title": ""
    }
   },
   "source": [
    "Make changes to the country table in the Azure SQL database"
   ]
  },
  {
   "cell_type": "code",
   "execution_count": 0,
   "metadata": {
    "application/vnd.databricks.v1+cell": {
     "cellMetadata": {},
     "inputWidgets": {},
     "nuid": "62d85149-237d-4b3e-b7de-e0a453f6c9f8",
     "showTitle": false,
     "title": ""
    }
   },
   "outputs": [],
   "source": [
    "odbcDriver = \"{ODBC Driver 17 for SQL Server}\"\n",
    "odbcServer = dbutils.secrets.get(scope=\"jdbc_stock\", key=\"odbcServer\")\n",
    "jdbcDatabase = dbutils.secrets.get(scope=\"jdbc_stock\", key=\"jdbcDatabase\")\n",
    "jdbcUsername = dbutils.secrets.get(scope=\"jdbc_stock\", key=\"jdbcUsername\")\n",
    "jdbcPassword = dbutils.secrets.get(scope=\"jdbc_stock\", key=\"jdbcPassword\")\n",
    "\n",
    "connection_string = (f\"DRIVER={odbcDriver};SERVER={odbcServer};DATABASE={jdbcDatabase};UID={jdbcUsername};PWD={jdbcPassword};\"\"TrustServerCertificate=Yes\")"
   ]
  },
  {
   "cell_type": "code",
   "execution_count": 0,
   "metadata": {
    "application/vnd.databricks.v1+cell": {
     "cellMetadata": {},
     "inputWidgets": {},
     "nuid": "ff8a5e79-28ef-4452-a4ce-4edda42ef9eb",
     "showTitle": false,
     "title": ""
    }
   },
   "outputs": [],
   "source": [
    "import pyodbc\n",
    "\n",
    "# Establish connection\n",
    "conn = pyodbc.connect(connection_string)\n",
    "\n",
    "# create cursor object\n",
    "cursor = conn.cursor()\n",
    "\n",
    "#Insert, update, and delete one row in SQL Database table\n",
    "cursor.execute(\"INSERT INTO look_up.dim_country(country, country_code_2_digit, country_code_3_digit, continent, population) VALUES ('c','cc','ccc','cde','20000')\")\n",
    "\n",
    "cursor.execute(\"UPDATE look_up.dim_country SET population = 38928341 WHERE country_code_2_digit = 'AF'\")\n",
    "\n",
    "cursor.execute(\"DELETE FROM look_up.dim_country WHERE country_code_2_digit = 'DZ'\")\n",
    "\n",
    "conn.commit()\n",
    "\n",
    "cursor.close()\n",
    "conn.close()"
   ]
  },
  {
   "cell_type": "markdown",
   "metadata": {
    "application/vnd.databricks.v1+cell": {
     "cellMetadata": {},
     "inputWidgets": {},
     "nuid": "8d086e64-111d-4394-aee4-188aa704dd07",
     "showTitle": false,
     "title": ""
    }
   },
   "source": [
    "Sync changes to the country_scd1 table in Delta Lake."
   ]
  },
  {
   "cell_type": "code",
   "execution_count": 0,
   "metadata": {
    "application/vnd.databricks.v1+cell": {
     "cellMetadata": {},
     "inputWidgets": {},
     "nuid": "1d4dfc0c-ad84-43c1-ba6f-09f73f6b06a6",
     "showTitle": false,
     "title": ""
    }
   },
   "outputs": [],
   "source": [
    "combo_df = (spark.read \n",
    "                .format(\"jdbc\") \n",
    "                .option(\"url\", jdbcUrl) \n",
    "                .option(\"dbtable\", \"look_up.dim_country\") \n",
    "                .option(\"user\", jdbcUsername) \n",
    "                .option(\"password\", jdbcPassword) \n",
    "                .load()\n",
    "                .orderBy('country')\n",
    ")\n",
    "\n",
    "combo_df.printSchema()\n",
    "display(combo_df)\n",
    "combo_df.createOrReplaceTempView(\"country_combo\")"
   ]
  },
  {
   "cell_type": "code",
   "execution_count": 0,
   "metadata": {
    "application/vnd.databricks.v1+cell": {
     "cellMetadata": {},
     "inputWidgets": {},
     "nuid": "d0c14eb9-6f45-4b35-b763-6e73f0207e6f",
     "showTitle": false,
     "title": ""
    }
   },
   "outputs": [],
   "source": [
    "%sql\n",
    "\n",
    "MERGE INTO look_up.dim_country_scd1 AS target\n",
    "USING country_combo AS source\n",
    "ON target.country = source.country\n",
    "WHEN MATCHED AND (target.country <> source.country OR target.country_code_2_digit <> source.country_code_2_digit OR target.country_code_3_digit <> source.country_code_3_digit OR target.continent <> source.continent OR target.population <> source.population)\n",
    "  THEN UPDATE SET *\n",
    "WHEN NOT MATCHED THEN INSERT *\n",
    "WHEN NOT MATCHED BY source THEN DELETE;"
   ]
  },
  {
   "cell_type": "markdown",
   "metadata": {
    "application/vnd.databricks.v1+cell": {
     "cellMetadata": {},
     "inputWidgets": {},
     "nuid": "f61c4be4-b4eb-4d15-9849-dffd1bf7da54",
     "showTitle": false,
     "title": ""
    }
   },
   "source": [
    "Use Change Data Feed (CDF) output to sync country_scd2 table"
   ]
  },
  {
   "cell_type": "code",
   "execution_count": 0,
   "metadata": {
    "application/vnd.databricks.v1+cell": {
     "cellMetadata": {},
     "inputWidgets": {},
     "nuid": "644a03ea-9e81-40fd-850f-0e35b322ccba",
     "showTitle": false,
     "title": ""
    }
   },
   "outputs": [],
   "source": [
    "last_version = spark.conf.get('spark.databricks.delta.lastCommitVersionInSession')\n",
    "change_df3 = spark.sql(f\"select * from table_changes('look_up.dim_country_scd1', {last_version}, {last_version})\")\n",
    "change_df3.createOrReplaceTempView('change_df3_view')"
   ]
  },
  {
   "cell_type": "code",
   "execution_count": 0,
   "metadata": {
    "application/vnd.databricks.v1+cell": {
     "cellMetadata": {},
     "inputWidgets": {},
     "nuid": "671a0caf-95e1-4861-a918-04653ebb4161",
     "showTitle": false,
     "title": ""
    }
   },
   "outputs": [],
   "source": [
    "%sql\n",
    "\n",
    "MERGE INTO look_up.dim_country_scd2 AS target\n",
    "USING (SELECT * FROM change_df3_view WHERE _change_type != 'update_preimage') AS source\n",
    "ON target.country = source.country\n",
    "\n",
    "WHEN MATCHED AND source._change_type = 'delete' THEN \n",
    "  DELETE\n",
    "\n",
    "WHEN MATCHED AND target.is_current = TRUE THEN \n",
    "  UPDATE SET \n",
    "  target.population = source.population\n",
    "\n",
    "WHEN NOT MATCHED AND source._change_type = 'insert' THEN \n",
    "  INSERT(\n",
    "    country,\n",
    "    country_code_2_digit,\n",
    "    country_code_3_digit,\n",
    "    continent,\n",
    "    population,\n",
    "    start_date,\n",
    "    end_date,\n",
    "    is_current\n",
    "  ) VALUES (\n",
    "    country,\n",
    "    country_code_2_digit,\n",
    "    country_code_3_digit,\n",
    "    continent,\n",
    "    population,\n",
    "    CURRENT_TIMESTAMP,\n",
    "    NULL,\n",
    "    TRUE\n",
    "  );"
   ]
  },
  {
   "cell_type": "code",
   "execution_count": 0,
   "metadata": {
    "application/vnd.databricks.v1+cell": {
     "cellMetadata": {},
     "inputWidgets": {},
     "nuid": "aad75512-f2ea-4af2-b230-3227a669d7ab",
     "showTitle": false,
     "title": ""
    }
   },
   "outputs": [],
   "source": []
  }
 ],
 "metadata": {
  "application/vnd.databricks.v1+notebook": {
   "dashboards": [],
   "language": "python",
   "notebookMetadata": {
    "pythonIndentUnit": 4
   },
   "notebookName": "3cdf",
   "widgets": {}
  }
 },
 "nbformat": 4,
 "nbformat_minor": 0
}
